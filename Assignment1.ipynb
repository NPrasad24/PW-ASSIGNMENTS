{
 "cells": [
  {
   "cell_type": "code",
   "execution_count": 1,
   "id": "8a2218ce-84e2-41e1-b6cf-aba1c7e0854b",
   "metadata": {},
   "outputs": [],
   "source": [
    "# Q1: Explain with an example each when to use a for loop and a while loop."
   ]
  },
  {
   "cell_type": "code",
   "execution_count": null,
   "id": "49b87a80-e68c-4323-b8b0-a08228495e23",
   "metadata": {},
   "outputs": [],
   "source": [
    "# FOR LOOP\n",
    "# A ‘for loop‘ is used to iterate over a sequence of items, such as a Python tuple, list, string, or range.\n",
    "# The loop will execute a block of statements for each item in the sequence."
   ]
  },
  {
   "cell_type": "code",
   "execution_count": 10,
   "id": "a1bb317e-7be8-4a4e-8239-837a6066ac60",
   "metadata": {},
   "outputs": [
    {
     "name": "stdout",
     "output_type": "stream",
     "text": [
      "ROHIT\n",
      "GILL\n",
      "ISHAN\n",
      "VIRAT\n"
     ]
    }
   ],
   "source": [
    "# Example for \"for\" loop\n",
    "# Create a list of items\n",
    "\n",
    "items = ['ROHIT', 'GILL',\n",
    "         'ISHAN', 'VIRAT']\n",
    "\n",
    "# items in a list\n",
    "for item in items:\n",
    "    print(item)\n",
    "    "
   ]
  },
  {
   "cell_type": "code",
   "execution_count": 8,
   "id": "2082e89e-bd31-4b6b-a39f-85628799f465",
   "metadata": {},
   "outputs": [],
   "source": [
    "# WHILE LOOP\n",
    "# A while loop is used to repeatedly execute a block of statements while a condition is true.\n",
    "# The loop will continue to run as long as the condition remains true.\n",
    "\n"
   ]
  },
  {
   "cell_type": "code",
   "execution_count": 9,
   "id": "c928bad8-02f5-48a4-ad95-c4c2c29303d5",
   "metadata": {},
   "outputs": [
    {
     "name": "stdout",
     "output_type": "stream",
     "text": [
      "pen\n",
      "notebook\n",
      "pencil\n",
      "lunch box\n"
     ]
    }
   ],
   "source": [
    " # Example for \"While\" loop\n",
    " # Create a list of items\n",
    "items = ['pen', 'notebook',\n",
    "         'pencil', 'lunch box']\n",
    "  \n",
    "# Declare a index\n",
    "index = 0\n",
    "  \n",
    "# Store length of items list\n",
    "items_len = len(items) #IT WILL BE 4 AS COUNTING STARTS FROM 1\n",
    "  \n",
    "# Run a loop to print\n",
    "# items in a list\n",
    "while index<items_len:\n",
    "     print(items[index])\n",
    "     index = index+1\n",
    "    \n",
    "    \n",
    " "
   ]
  },
  {
   "cell_type": "code",
   "execution_count": 13,
   "id": "e7766cc0-78fc-4519-833d-9c7951d26231",
   "metadata": {},
   "outputs": [],
   "source": [
    "# Q2. Write a python program to print the sum and product of the first 10 natural numbers using for and while loop.\n"
   ]
  },
  {
   "cell_type": "code",
   "execution_count": 14,
   "id": "1b07bdf3-9ceb-4306-8400-14ed309e38ac",
   "metadata": {},
   "outputs": [
    {
     "name": "stdout",
     "output_type": "stream",
     "text": [
      "Sum of the first 10 natural numbers: 55\n",
      "Product of the first 10 natural numbers: 3628800\n"
     ]
    }
   ],
   "source": [
    "# Using for loop to calculate the sum and product of the first 10 natural numbers\n",
    "def sum_and_product_with_for():\n",
    "    # Initialize variables to store sum and product\n",
    "    total_sum = 0\n",
    "    product = 1\n",
    "\n",
    "    # Calculate the sum and product using for loop\n",
    "    for i in range(1, 11):\n",
    "        total_sum += i\n",
    "        product *= i\n",
    "\n",
    "    # Print the results\n",
    "    print(\"Sum of the first 10 natural numbers:\", total_sum)\n",
    "    print(\"Product of the first 10 natural numbers:\", product)\n",
    "\n",
    "# Call the function\n",
    "sum_and_product_with_for()\n",
    "\n"
   ]
  },
  {
   "cell_type": "code",
   "execution_count": 15,
   "id": "05db6de6-603d-4ca1-9ee6-db588fd973ea",
   "metadata": {},
   "outputs": [
    {
     "name": "stdout",
     "output_type": "stream",
     "text": [
      "Sum of the first 10 natural numbers: 55\n",
      "Product of the first 10 natural numbers: 3628800\n"
     ]
    }
   ],
   "source": [
    "# Using while loop to calculate the sum and product of the first 10 natural numbers\n",
    "def sum_and_product_with_while():\n",
    "    # Initialize variables to store sum and product\n",
    "    total_sum = 0\n",
    "    product = 1\n",
    "\n",
    "    # Initialize the counter\n",
    "    i = 1\n",
    "\n",
    "    # Calculate the sum and product using while loop\n",
    "    while i <= 10:\n",
    "        total_sum += i\n",
    "        product *= i\n",
    "        i += 1\n",
    "\n",
    "    # Print the results\n",
    "    print(\"Sum of the first 10 natural numbers:\", total_sum)\n",
    "    print(\"Product of the first 10 natural numbers:\", product)\n",
    "\n",
    "# Call the function\n",
    "sum_and_product_with_while()"
   ]
  },
  {
   "cell_type": "code",
   "execution_count": 16,
   "id": "92f5fc1d-ec5f-49e7-91a0-1effb9a3d0d4",
   "metadata": {},
   "outputs": [
    {
     "data": {
      "text/plain": [
       "' Q3. Create a python program to compute the electricity bill for a household.\\nThe per-unit charges in rupees are as follows: For the first 100 units, the user will be charged Rs. 4.5 per\\nunit, for the next 100 units, the user will be charged Rs. 6 per unit, and for the next 100 units, the user will\\nbe charged Rs. 10 per unit, After 300 units and above the user will be charged Rs. 20 per unit.\\nYou are required to take the units of electricity consumed in a month from the user as input.\\nYour program must pass this test case: when the unit of electricity consumed by the user in a month is\\n310, the total electricity bill should be 2250.'"
      ]
     },
     "execution_count": 16,
     "metadata": {},
     "output_type": "execute_result"
    }
   ],
   "source": [
    "''' Q3. Create a python program to compute the electricity bill for a household.\n",
    "The per-unit charges in rupees are as follows: For the first 100 units, the user will be charged Rs. 4.5 per\n",
    "unit, for the next 100 units, the user will be charged Rs. 6 per unit, and for the next 100 units, the user will\n",
    "be charged Rs. 10 per unit, After 300 units and above the user will be charged Rs. 20 per unit.\n",
    "You are required to take the units of electricity consumed in a month from the user as input.\n",
    "Your program must pass this test case: when the unit of electricity consumed by the user in a month is\n",
    "310, the total electricity bill should be 2250.'''\n",
    "\n"
   ]
  },
  {
   "cell_type": "code",
   "execution_count": 17,
   "id": "d1baf8c1-871e-4d3d-9dc7-5a79852921e2",
   "metadata": {},
   "outputs": [
    {
     "name": "stdin",
     "output_type": "stream",
     "text": [
      "Enter the units of electricity consumed in a month:  310\n"
     ]
    },
    {
     "name": "stdout",
     "output_type": "stream",
     "text": [
      "Total Electricity Bill: Rs. 2250.0\n"
     ]
    }
   ],
   "source": [
    "def calculate_electricity_bill(units):\n",
    "    total_bill = 0\n",
    "\n",
    "    # Calculate the bill for the first 100 units at Rs. 4.5 per unit\n",
    "    if units <= 100:\n",
    "        total_bill = units * 4.5\n",
    "    else:\n",
    "        total_bill += 100 * 4.5\n",
    "        units -= 100\n",
    "\n",
    "        # Calculate the bill for the next 100 units at Rs. 6 per unit\n",
    "        if units <= 100:\n",
    "            total_bill += units * 6\n",
    "        else:\n",
    "            total_bill += 100 * 6\n",
    "            units -= 100\n",
    "\n",
    "            # Calculate the bill for the next 100 units at Rs. 10 per unit\n",
    "            if units <= 100:\n",
    "                total_bill += units * 10\n",
    "            else:\n",
    "                total_bill += 100 * 10\n",
    "                units -= 100\n",
    "\n",
    "                # Calculate the bill for units above 300 at Rs. 20 per unit\n",
    "                total_bill += units * 20\n",
    "\n",
    "    return total_bill\n",
    "\n",
    "\n",
    "def main():\n",
    "    # Take input from the user for the units of electricity consumed\n",
    "    units_consumed = int(input(\"Enter the units of electricity consumed in a month: \"))\n",
    "\n",
    "    # Calculate the electricity bill\n",
    "    bill_amount = calculate_electricity_bill(units_consumed)\n",
    "\n",
    "    # Display the electricity bill\n",
    "    print(\"Total Electricity Bill: Rs.\", bill_amount)\n",
    "\n",
    "\n",
    "if __name__ == \"__main__\":\n",
    "    main()"
   ]
  },
  {
   "cell_type": "code",
   "execution_count": 18,
   "id": "92f18f41-b98a-4a5c-b151-feee572cc7d9",
   "metadata": {},
   "outputs": [
    {
     "data": {
      "text/plain": [
       "'Q4. Create a list of numbers from 1 to 100. Use for loop and while loop to calculate the cube of each\\nnumber and if the cube of that number is divisible by 4 or 5 then append that number in a list and print\\nthat list. '"
      ]
     },
     "execution_count": 18,
     "metadata": {},
     "output_type": "execute_result"
    }
   ],
   "source": [
    "'''Q4. Create a list of numbers from 1 to 100. Use for loop and while loop to calculate the cube of each\n",
    "number and if the cube of that number is divisible by 4 or 5 then append that number in a list and print\n",
    "that list. '''"
   ]
  },
  {
   "cell_type": "code",
   "execution_count": 19,
   "id": "d6e413be-788a-4697-9ded-486795e7bf75",
   "metadata": {},
   "outputs": [
    {
     "name": "stdout",
     "output_type": "stream",
     "text": [
      "Numbers whose cube is divisible by 4 or 5 (using for loop): [2, 4, 5, 6, 8, 10, 12, 14, 15, 16, 18, 20, 22, 24, 25, 26, 28, 30, 32, 34, 35, 36, 38, 40, 42, 44, 45, 46, 48, 50, 52, 54, 55, 56, 58, 60, 62, 64, 65, 66, 68, 70, 72, 74, 75, 76, 78, 80, 82, 84, 85, 86, 88, 90, 92, 94, 95, 96, 98, 100]\n"
     ]
    }
   ],
   "source": [
    "# Using for loop to calculate the cubes and filter numbers\n",
    "def calculate_cubes_with_for():\n",
    "    # Create an empty list to store the numbers whose cube is divisible by 4 or 5\n",
    "    result_list = []\n",
    "\n",
    "    # Calculate cubes using for loop and append the numbers if the cube is divisible by 4 or 5\n",
    "    for num in range(1, 101):\n",
    "        cube = num ** 3\n",
    "        if cube % 4 == 0 or cube % 5 == 0:\n",
    "            result_list.append(num)\n",
    "\n",
    "    return result_list\n",
    "\n",
    "# Call the function and print the result\n",
    "result = calculate_cubes_with_for()\n",
    "print(\"Numbers whose cube is divisible by 4 or 5 (using for loop):\", result)\n"
   ]
  },
  {
   "cell_type": "code",
   "execution_count": 20,
   "id": "41a4863f-a41a-4e9a-9ce7-aba9dcecc4bf",
   "metadata": {},
   "outputs": [
    {
     "name": "stdout",
     "output_type": "stream",
     "text": [
      "Numbers whose cube is divisible by 4 or 5 (using while loop): [2, 4, 5, 6, 8, 10, 12, 14, 15, 16, 18, 20, 22, 24, 25, 26, 28, 30, 32, 34, 35, 36, 38, 40, 42, 44, 45, 46, 48, 50, 52, 54, 55, 56, 58, 60, 62, 64, 65, 66, 68, 70, 72, 74, 75, 76, 78, 80, 82, 84, 85, 86, 88, 90, 92, 94, 95, 96, 98, 100]\n"
     ]
    }
   ],
   "source": [
    "# Using while loop to calculate the cubes and filter numbers\n",
    "def calculate_cubes_with_while():\n",
    "    # Create an empty list to store the numbers whose cube is divisible by 4 or 5\n",
    "    result_list = []\n",
    "\n",
    "    # Initialize the counter\n",
    "    num = 1\n",
    "\n",
    "    # Calculate cubes using while loop and append the numbers if the cube is divisible by 4 or 5\n",
    "    while num <= 100:\n",
    "        cube = num ** 3\n",
    "        if cube % 4 == 0 or cube % 5 == 0:\n",
    "            result_list.append(num)\n",
    "        num += 1\n",
    "\n",
    "    return result_list\n",
    "\n",
    "# Call the function and print the result\n",
    "result = calculate_cubes_with_while()\n",
    "print(\"Numbers whose cube is divisible by 4 or 5 (using while loop):\", result)\n"
   ]
  },
  {
   "cell_type": "code",
   "execution_count": 22,
   "id": "69c09e2a-97a3-4146-b3c3-bce739c53bb1",
   "metadata": {},
   "outputs": [
    {
     "data": {
      "text/plain": [
       "' Q5. Write a program to filter count vowels in the below-given string.string = \"I want to become a data scientist\" '"
      ]
     },
     "execution_count": 22,
     "metadata": {},
     "output_type": "execute_result"
    }
   ],
   "source": [
    "''' Q5. Write a program to filter count vowels in the below-given string.string = \"I want to become a data scientist\" '''\n",
    "\n"
   ]
  },
  {
   "cell_type": "code",
   "execution_count": 23,
   "id": "25525866-6087-44ff-a934-dbc19eceba98",
   "metadata": {},
   "outputs": [
    {
     "name": "stdout",
     "output_type": "stream",
     "text": [
      "Number of vowels in the string: 12\n"
     ]
    }
   ],
   "source": [
    "def count_vowels(input_string):\n",
    "    # Convert the string to lowercase to consider both uppercase and lowercase vowels\n",
    "    input_string = input_string.lower()\n",
    "\n",
    "    # Define a set of vowels\n",
    "    vowels = {'a', 'e', 'i', 'o', 'u'}\n",
    "\n",
    "    # Initialize a counter for counting vowels\n",
    "    vowel_count = 0\n",
    "\n",
    "    # Count the vowels in the string\n",
    "    for char in input_string:\n",
    "        if char in vowels:\n",
    "            vowel_count += 1\n",
    "\n",
    "    return vowel_count\n",
    "\n",
    "def main():\n",
    "    input_string = \"I want to become a data scientist\"\n",
    "    vowel_count = count_vowels(input_string)\n",
    "    print(\"Number of vowels in the string:\", vowel_count)\n",
    "\n",
    "if __name__ == \"__main__\":\n",
    "    main()\n"
   ]
  },
  {
   "cell_type": "code",
   "execution_count": null,
   "id": "20012b2d-b7b6-42d9-8a41-faed4cc3d69f",
   "metadata": {},
   "outputs": [],
   "source": []
  }
 ],
 "metadata": {
  "kernelspec": {
   "display_name": "Python 3 (ipykernel)",
   "language": "python",
   "name": "python3"
  },
  "language_info": {
   "codemirror_mode": {
    "name": "ipython",
    "version": 3
   },
   "file_extension": ".py",
   "mimetype": "text/x-python",
   "name": "python",
   "nbconvert_exporter": "python",
   "pygments_lexer": "ipython3",
   "version": "3.10.8"
  }
 },
 "nbformat": 4,
 "nbformat_minor": 5
}
